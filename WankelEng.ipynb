{
 "cells": [
  {
   "cell_type": "code",
   "execution_count": null,
   "metadata": {
    "scrolled": false
   },
   "outputs": [],
   "source": [
    "n = 2\n",
    "\n",
    "m = 0.17\n",
    "\n",
    "t = var('t')\n",
    "\n",
    "plope = ((1 + m) * cos(t) - m * cos((n + 1) * t), (1 + m) * sin(t) - m * sin((n + 1) * t))\n",
    "\n",
    "epitrochoid = parametric_plot(plope, (t, -pi, pi), aspect_ratio=1)\n",
    "\n",
    "show(epitrochoid)\n",
    "\n",
    "a = var('a')\n",
    "\n",
    "ite = 7 * (n + 1)\n",
    "gener = []\n",
    "for i in xrange(ite):\n",
    "    rot = i * 2 * pi / ite\n",
    "    gener.append((cos(rot) * plope[0] - sin(rot) * plope[1] + m * cos(n * -rot) , sin(rot) * plope[0] + cos(rot) * plope[1] + m * sin(n * -rot)))\n",
    "\n",
    "rays = []\n",
    "\n",
    "for i in xrange(n + 1):\n",
    "    rays.append(parametric_plot(((1 + m) * t * cos(i * 2 * pi / (n + 1)), (1 + m) * t * sin(i * 2 * pi / (n + 1))), (t, 0, 1), aspect_ratio=1, color='red'))\n",
    "\n",
    "show(sum(parametric_plot(gener[i], (t, -pi, pi), aspect_ratio=1) for i in xrange(len(gener))) + sum(rays))\n",
    "\n",
    "# I should really figure out how to do this without all the sorting.\n",
    "@parallel('multiprocessing')\n",
    "def rotor(j):\n",
    "    choices = []\n",
    "    # This could be done in parallel as well, it doesn't depend on the order of the loop.\n",
    "    for i in xrange(ite):\n",
    "        rot = j + i * 2 * pi / ite\n",
    "        choices.append( sqrt((gener[i][0].substitute(t == rot))^2 + (gener[i][1].substitute(t == rot))^2) )\n",
    "    return sorted(choices)[0]\n",
    "\n",
    "protor = polar_plot(rotor, (t, -pi, pi), aspect_ratio=1)\n",
    "\n",
    "show(protor)\n",
    "\n",
    "show('Done!')"
   ]
  }
 ],
 "metadata": {
  "kernelspec": {
   "display_name": "SageMath 8.0.rc1",
   "language": "",
   "name": "sagemath"
  },
  "language_info": {
   "codemirror_mode": {
    "name": "ipython",
    "version": 2
   },
   "file_extension": ".py",
   "mimetype": "text/x-python",
   "name": "python",
   "nbconvert_exporter": "python",
   "pygments_lexer": "ipython2",
   "version": "2.7.13"
  }
 },
 "nbformat": 4,
 "nbformat_minor": 2
}
